{
 "cells": [
  {
   "cell_type": "code",
   "execution_count": null,
   "id": "0cdfd4a2",
   "metadata": {},
   "outputs": [],
   "source": [
    "import warnings\n",
    "warnings.simplefilter('ignore')\n",
    "\n",
    "from DASLowFreqProcessing import spool,terra_io,lfproc"
   ]
  },
  {
   "cell_type": "code",
   "execution_count": null,
   "id": "4949e34d",
   "metadata": {},
   "outputs": [],
   "source": [
    "# define datapath location\n",
    "datapath = r'E:\\Projects\\Data\\UTC-YMD20220131-HMS210545.959'\n",
    "output_folder =  'LFDAS'"
   ]
  },
  {
   "cell_type": "code",
   "execution_count": null,
   "id": "524b19b8",
   "metadata": {},
   "outputs": [],
   "source": [
    "# create io utility\n",
    "sp = terra_io.create_spool(datapath)\n",
    "sp.get_time_segments()"
   ]
  },
  {
   "cell_type": "code",
   "execution_count": null,
   "id": "aa50481e",
   "metadata": {},
   "outputs": [],
   "source": [
    "# test I/O\n",
    "bgtime = np.datetime64('2022-02-01T21:06:23')\n",
    "edtime = np.datetime64('2022-02-01T21:06:24')\n",
    "sp.get_patch(bgtime,edtime)"
   ]
  },
  {
   "cell_type": "code",
   "execution_count": null,
   "id": "535ca0d0",
   "metadata": {},
   "outputs": [],
   "source": [
    "lfp = lfproc.lfproc(sp)\n",
    "lfp.update_processing_parameter(process_patch_size=60)\n",
    "lfp.set_output_folder(output_folder,delete_existing=True)\n",
    "lfp._para"
   ]
  },
  {
   "cell_type": "code",
   "execution_count": null,
   "id": "d9a7374b",
   "metadata": {},
   "outputs": [],
   "source": [
    "from time import time\n",
    "tic = time()\n",
    "# for bgtime, edtime in sp.get_time_segments(max_dt=0.01):\n",
    "bgtime = np.datetime64('2022-02-04T14:00:00')\n",
    "edtime = np.datetime64('2022-02-05T14:00:00')\n",
    "lfp.process_time_range(bgtime,edtime)\n",
    "toc = time()\n",
    "process_time = toc-tic\n",
    "print(f'processing time: {process_time}')"
   ]
  },
  {
   "cell_type": "code",
   "execution_count": null,
   "id": "35fa9700",
   "metadata": {},
   "outputs": [],
   "source": []
  },
  {
   "cell_type": "code",
   "execution_count": null,
   "id": "f9d9ccd1",
   "metadata": {},
   "outputs": [],
   "source": [
    "reload(lfproc)\n",
    "plist = lfproc.gather_results(output_folder)\n",
    "len(plist)"
   ]
  },
  {
   "cell_type": "code",
   "execution_count": null,
   "id": "72be6fda",
   "metadata": {},
   "outputs": [],
   "source": [
    "DASdata = plist[0]\n",
    "cx = np.array([-1,1])\n",
    "plt.figure(figsize=(8,6))\n",
    "plt.imshow(DASdata.data,aspect='auto',cmap='seismic')\n",
    "DASdata._data_array.plot\n",
    "plt.clim(cx*1e1)\n",
    "plt.colorbar()\n",
    "plt.show()"
   ]
  }
 ],
 "metadata": {
  "kernelspec": {
   "display_name": "Python 3 (ipykernel)",
   "language": "python",
   "name": "python3"
  },
  "language_info": {
   "codemirror_mode": {
    "name": "ipython",
    "version": 3
   },
   "file_extension": ".py",
   "mimetype": "text/x-python",
   "name": "python",
   "nbconvert_exporter": "python",
   "pygments_lexer": "ipython3",
   "version": "3.9.7"
  },
  "toc": {
   "base_numbering": 1,
   "nav_menu": {},
   "number_sections": true,
   "sideBar": true,
   "skip_h1_title": false,
   "title_cell": "Table of Contents",
   "title_sidebar": "Contents",
   "toc_cell": false,
   "toc_position": {},
   "toc_section_display": true,
   "toc_window_display": false
  }
 },
 "nbformat": 4,
 "nbformat_minor": 5
}
